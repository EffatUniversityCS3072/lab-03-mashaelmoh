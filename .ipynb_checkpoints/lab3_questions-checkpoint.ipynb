{
 "cells": [
  {
   "cell_type": "markdown",
   "id": "26cf5d84-cfef-4446-8191-d3243e5287f6",
   "metadata": {},
   "source": [
    "## Lab 3: pandas\n",
    "\n",
    "#### Introduction\n",
    "\n",
    "We will examine a dataset containing characteristics of lego sets manufactured between 1961 and 2019 from the BRICKSET website. Variables in the dataset are described below.\n",
    "\n",
    "| VARIABLE             |      DESCRIPTION             |\n",
    "|:----------|:-------------|\n",
    "| ID |  set id |\n",
    "| Name |    name of set   |\n",
    "| Themegroup | themegroup of set |\n",
    "| Theme |  theme of set |\n",
    "| Subtheme |    subtheme of set   |\n",
    "| Year | year released |\n",
    "| Pieces |  number of pieces |\n",
    "| Minifig |    number of minifigs   |\n",
    "| Package | type of packaging |\n",
    "| Retail_Price |  recommended retail pri\n",
    "\n",
    "\n",
    "\n",
    "Load pandas to read in the data and save it as dataframe named lego."
   ]
  },
  {
   "cell_type": "markdown",
   "id": "06eeb7c8-9cea-462b-ad73-8e15c8ef5c45",
   "metadata": {},
   "source": [
    "mmashael"
   ]
  },
  {
   "cell_type": "code",
   "execution_count": 58,
   "id": "c5749932-fc68-41af-9354-8ef58288707f",
   "metadata": {},
   "outputs": [],
   "source": [
    "import pandas as pd\n",
    "\n",
    "lego = pd.read_csv('lego.csv')"
   ]
  },
  {
   "cell_type": "markdown",
   "id": "cf1c2440-3aa5-4858-937c-05ad39833c5b",
   "metadata": {},
   "source": [
    "#### Question 1:\n",
    "Some sets have missing information for retail_price or pieces or both. This could be because the sets are free (giveaways), they aren’t traditional lego sets (comic books, etc) or just because the information is missing. Filter the lego dataset based on the specifications below and save the result as lego. Hence, you will overwrite the original lego object. In addition, describe the implications of removing these sets.\n",
    "\n",
    "Your new lego (data frame) should have:\n",
    "\n",
    "• no missing pieces\n",
    "\n",
    "• only contain sets with a nonzero number of pieces\n",
    "\n",
    "• no missing retail_price\n",
    "\n",
    "• only contain sets with a nonzero retail_price\n",
    "\n",
    "• no missing year\n",
    "\n",
    "- Print out the shape of the dataframe after cleaning the dataset.\n",
    "- "
   ]
  },
  {
   "cell_type": "code",
   "execution_count": 63,
   "id": "9eec7bea-56f0-4532-a671-13582d388bf9",
   "metadata": {},
   "outputs": [
    {
     "name": "stdout",
     "output_type": "stream",
     "text": [
      "(12214, 10)\n",
      "(4360, 10)\n",
      "(83, 10)\n"
     ]
    }
   ],
   "source": [
    "# Write your answer here\n",
    "print(lego.shape)\n",
    "lego2 =lego.dropna()\n",
    "print(lego2.shape)\n",
    "lego2=lego2.loc[lego2.retail_price ==0, :]\n",
    "lego2= lego2.loc[lego2.pieces > 0, :]\n",
    "print(lego2.shape)"
   ]
  },
  {
   "cell_type": "markdown",
   "id": "1193e396-77f1-48d9-a378-141f9ae0b491",
   "metadata": {},
   "source": [
    "#### Question 2:\t\n",
    "Arrange the dataset in descending order of retail_price and print the first three rows. Report in words the names of the three most expensive lego sets, their prices, and how many pieces each has."
   ]
  },
  {
   "cell_type": "code",
   "execution_count": 78,
   "id": "9d5c1301-b2ee-4c0d-9b5a-5a8a3e625ecd",
   "metadata": {
    "scrolled": true
   },
   "outputs": [
    {
     "data": {
      "text/html": [
       "<div>\n",
       "<style scoped>\n",
       "    .dataframe tbody tr th:only-of-type {\n",
       "        vertical-align: middle;\n",
       "    }\n",
       "\n",
       "    .dataframe tbody tr th {\n",
       "        vertical-align: top;\n",
       "    }\n",
       "\n",
       "    .dataframe thead th {\n",
       "        text-align: right;\n",
       "    }\n",
       "</style>\n",
       "<table border=\"1\" class=\"dataframe\">\n",
       "  <thead>\n",
       "    <tr style=\"text-align: right;\">\n",
       "      <th></th>\n",
       "      <th>id</th>\n",
       "      <th>name</th>\n",
       "      <th>themegroup</th>\n",
       "      <th>theme</th>\n",
       "      <th>subtheme</th>\n",
       "      <th>year</th>\n",
       "      <th>pieces</th>\n",
       "      <th>minifigs</th>\n",
       "      <th>package</th>\n",
       "      <th>retail_price</th>\n",
       "    </tr>\n",
       "  </thead>\n",
       "  <tbody>\n",
       "    <tr>\n",
       "      <th>2266</th>\n",
       "      <td>40135-1</td>\n",
       "      <td>Angler Fish</td>\n",
       "      <td>Miscellaneous</td>\n",
       "      <td>Promotional</td>\n",
       "      <td>Monthly Mini Model Build</td>\n",
       "      <td>2015.0</td>\n",
       "      <td>29.0</td>\n",
       "      <td>0</td>\n",
       "      <td>Polybag</td>\n",
       "      <td>0.0</td>\n",
       "    </tr>\n",
       "    <tr>\n",
       "      <th>5627</th>\n",
       "      <td>HANOVER-1</td>\n",
       "      <td>{Crab}</td>\n",
       "      <td>Miscellaneous</td>\n",
       "      <td>Promotional</td>\n",
       "      <td>LEGO brand store opening set</td>\n",
       "      <td>2009.0</td>\n",
       "      <td>69.0</td>\n",
       "      <td>0</td>\n",
       "      <td>None (loose parts)</td>\n",
       "      <td>0.0</td>\n",
       "    </tr>\n",
       "    <tr>\n",
       "      <th>5623</th>\n",
       "      <td>CONCORD-1</td>\n",
       "      <td>{Nascar}</td>\n",
       "      <td>Miscellaneous</td>\n",
       "      <td>Promotional</td>\n",
       "      <td>LEGO brand store opening set</td>\n",
       "      <td>2009.0</td>\n",
       "      <td>70.0</td>\n",
       "      <td>0</td>\n",
       "      <td>None (loose parts)</td>\n",
       "      <td>0.0</td>\n",
       "    </tr>\n",
       "  </tbody>\n",
       "</table>\n",
       "</div>"
      ],
      "text/plain": [
       "             id         name     themegroup        theme  \\\n",
       "2266    40135-1  Angler Fish  Miscellaneous  Promotional   \n",
       "5627  HANOVER-1       {Crab}  Miscellaneous  Promotional   \n",
       "5623  CONCORD-1     {Nascar}  Miscellaneous  Promotional   \n",
       "\n",
       "                          subtheme    year  pieces  minifigs  \\\n",
       "2266      Monthly Mini Model Build  2015.0    29.0         0   \n",
       "5627  LEGO brand store opening set  2009.0    69.0         0   \n",
       "5623  LEGO brand store opening set  2009.0    70.0         0   \n",
       "\n",
       "                 package  retail_price  \n",
       "2266             Polybag           0.0  \n",
       "5627  None (loose parts)           0.0  \n",
       "5623  None (loose parts)           0.0  "
      ]
     },
     "execution_count": 78,
     "metadata": {},
     "output_type": "execute_result"
    }
   ],
   "source": [
    "lego2.sort_values(by = 'retail_price', ascending = False).head(3)\n"
   ]
  },
  {
   "cell_type": "markdown",
   "id": "e972d030-9086-4b6f-b4bf-02d61bd5b2af",
   "metadata": {},
   "source": [
    "#### Question 3:\n",
    "\n",
    "It appears that the most expensive sets generally have more pieces. Create a new variable (column) price_per_piece, representing the price in dollars per piece for each of the sets. Save the result as lego2. Hence, you will overwrite the current lego object."
   ]
  },
  {
   "cell_type": "code",
   "execution_count": 84,
   "id": "8061514b-9a20-45d0-9998-75f3ca9b1bc4",
   "metadata": {},
   "outputs": [
    {
     "data": {
      "text/html": [
       "<div>\n",
       "<style scoped>\n",
       "    .dataframe tbody tr th:only-of-type {\n",
       "        vertical-align: middle;\n",
       "    }\n",
       "\n",
       "    .dataframe tbody tr th {\n",
       "        vertical-align: top;\n",
       "    }\n",
       "\n",
       "    .dataframe thead th {\n",
       "        text-align: right;\n",
       "    }\n",
       "</style>\n",
       "<table border=\"1\" class=\"dataframe\">\n",
       "  <thead>\n",
       "    <tr style=\"text-align: right;\">\n",
       "      <th></th>\n",
       "      <th>id</th>\n",
       "      <th>name</th>\n",
       "      <th>themegroup</th>\n",
       "      <th>theme</th>\n",
       "      <th>subtheme</th>\n",
       "      <th>year</th>\n",
       "      <th>pieces</th>\n",
       "      <th>minifigs</th>\n",
       "      <th>package</th>\n",
       "      <th>retail_price</th>\n",
       "      <th>price_per_piece</th>\n",
       "    </tr>\n",
       "  </thead>\n",
       "  <tbody>\n",
       "    <tr>\n",
       "      <th>2266</th>\n",
       "      <td>40135-1</td>\n",
       "      <td>Angler Fish</td>\n",
       "      <td>Miscellaneous</td>\n",
       "      <td>Promotional</td>\n",
       "      <td>Monthly Mini Model Build</td>\n",
       "      <td>2015.0</td>\n",
       "      <td>29.0</td>\n",
       "      <td>0</td>\n",
       "      <td>Polybag</td>\n",
       "      <td>0.0</td>\n",
       "      <td>0.0</td>\n",
       "    </tr>\n",
       "    <tr>\n",
       "      <th>5627</th>\n",
       "      <td>HANOVER-1</td>\n",
       "      <td>{Crab}</td>\n",
       "      <td>Miscellaneous</td>\n",
       "      <td>Promotional</td>\n",
       "      <td>LEGO brand store opening set</td>\n",
       "      <td>2009.0</td>\n",
       "      <td>69.0</td>\n",
       "      <td>0</td>\n",
       "      <td>None (loose parts)</td>\n",
       "      <td>0.0</td>\n",
       "      <td>0.0</td>\n",
       "    </tr>\n",
       "    <tr>\n",
       "      <th>5623</th>\n",
       "      <td>CONCORD-1</td>\n",
       "      <td>{Nascar}</td>\n",
       "      <td>Miscellaneous</td>\n",
       "      <td>Promotional</td>\n",
       "      <td>LEGO brand store opening set</td>\n",
       "      <td>2009.0</td>\n",
       "      <td>70.0</td>\n",
       "      <td>0</td>\n",
       "      <td>None (loose parts)</td>\n",
       "      <td>0.0</td>\n",
       "      <td>0.0</td>\n",
       "    </tr>\n",
       "  </tbody>\n",
       "</table>\n",
       "</div>"
      ],
      "text/plain": [
       "             id         name     themegroup        theme  \\\n",
       "2266    40135-1  Angler Fish  Miscellaneous  Promotional   \n",
       "5627  HANOVER-1       {Crab}  Miscellaneous  Promotional   \n",
       "5623  CONCORD-1     {Nascar}  Miscellaneous  Promotional   \n",
       "\n",
       "                          subtheme    year  pieces  minifigs  \\\n",
       "2266      Monthly Mini Model Build  2015.0    29.0         0   \n",
       "5627  LEGO brand store opening set  2009.0    69.0         0   \n",
       "5623  LEGO brand store opening set  2009.0    70.0         0   \n",
       "\n",
       "                 package  retail_price  price_per_piece  \n",
       "2266             Polybag           0.0              0.0  \n",
       "5627  None (loose parts)           0.0              0.0  \n",
       "5623  None (loose parts)           0.0              0.0  "
      ]
     },
     "execution_count": 84,
     "metadata": {},
     "output_type": "execute_result"
    }
   ],
   "source": [
    "# Write your answer here\n",
    "lego2['price_per_piece'] = lego2.retail_price / lego2.pieces\n",
    "lego2.sort_values(by = 'price_per_piece', ascending = False).head(3)\n"
   ]
  },
  {
   "cell_type": "markdown",
   "id": "a66016ad-869d-4412-b809-749423e9c8d2",
   "metadata": {},
   "source": [
    "#### Question 4:\t\n",
    "\n",
    "Arrange the lego2 dataset in descending order of price_per_piece and return only the columns: name, themegroup, theme, pieces, price_per_piece, and the first five rows. What do you notice about these sets?"
   ]
  },
  {
   "cell_type": "code",
   "execution_count": 88,
   "id": "e4e623ce-d4d4-44d6-86a0-881a04eebf11",
   "metadata": {},
   "outputs": [
    {
     "data": {
      "text/html": [
       "<div>\n",
       "<style scoped>\n",
       "    .dataframe tbody tr th:only-of-type {\n",
       "        vertical-align: middle;\n",
       "    }\n",
       "\n",
       "    .dataframe tbody tr th {\n",
       "        vertical-align: top;\n",
       "    }\n",
       "\n",
       "    .dataframe thead th {\n",
       "        text-align: right;\n",
       "    }\n",
       "</style>\n",
       "<table border=\"1\" class=\"dataframe\">\n",
       "  <thead>\n",
       "    <tr style=\"text-align: right;\">\n",
       "      <th></th>\n",
       "      <th>name</th>\n",
       "      <th>themegroup</th>\n",
       "      <th>theme</th>\n",
       "      <th>pieces</th>\n",
       "      <th>price_per_piece</th>\n",
       "    </tr>\n",
       "  </thead>\n",
       "  <tbody>\n",
       "    <tr>\n",
       "      <th>2266</th>\n",
       "      <td>Angler Fish</td>\n",
       "      <td>Miscellaneous</td>\n",
       "      <td>Promotional</td>\n",
       "      <td>29.0</td>\n",
       "      <td>0.0</td>\n",
       "    </tr>\n",
       "    <tr>\n",
       "      <th>5627</th>\n",
       "      <td>{Crab}</td>\n",
       "      <td>Miscellaneous</td>\n",
       "      <td>Promotional</td>\n",
       "      <td>69.0</td>\n",
       "      <td>0.0</td>\n",
       "    </tr>\n",
       "    <tr>\n",
       "      <th>5623</th>\n",
       "      <td>{Nascar}</td>\n",
       "      <td>Miscellaneous</td>\n",
       "      <td>Promotional</td>\n",
       "      <td>70.0</td>\n",
       "      <td>0.0</td>\n",
       "    </tr>\n",
       "    <tr>\n",
       "      <th>5614</th>\n",
       "      <td>{Salamander}</td>\n",
       "      <td>Miscellaneous</td>\n",
       "      <td>Promotional</td>\n",
       "      <td>72.0</td>\n",
       "      <td>0.0</td>\n",
       "    </tr>\n",
       "    <tr>\n",
       "      <th>5613</th>\n",
       "      <td>{Flying Pig}</td>\n",
       "      <td>Miscellaneous</td>\n",
       "      <td>Promotional</td>\n",
       "      <td>93.0</td>\n",
       "      <td>0.0</td>\n",
       "    </tr>\n",
       "  </tbody>\n",
       "</table>\n",
       "</div>"
      ],
      "text/plain": [
       "              name     themegroup        theme  pieces  price_per_piece\n",
       "2266   Angler Fish  Miscellaneous  Promotional    29.0              0.0\n",
       "5627        {Crab}  Miscellaneous  Promotional    69.0              0.0\n",
       "5623      {Nascar}  Miscellaneous  Promotional    70.0              0.0\n",
       "5614  {Salamander}  Miscellaneous  Promotional    72.0              0.0\n",
       "5613  {Flying Pig}  Miscellaneous  Promotional    93.0              0.0"
      ]
     },
     "execution_count": 88,
     "metadata": {},
     "output_type": "execute_result"
    }
   ],
   "source": [
    "# Write your answer here\n",
    "\n",
    "lego3=lego2.sort_values(by ='price_per_piece' ,ascending = False)\n",
    "lego3= lego3.loc[:,[ 'name', 'themegroup', 'theme','pieces','price_per_piece']]\n",
    "lego3.head(5)"
   ]
  },
  {
   "cell_type": "markdown",
   "id": "1603a4f2-1e28-43e9-8677-87dcfaf61912",
   "metadata": {},
   "source": [
    "#### Question 5:\n",
    "\n",
    "What is the mean price_per_piece for the top 40 'Toy Story' sets in terms of price_per_piece?"
   ]
  },
  {
   "cell_type": "code",
   "execution_count": 90,
   "id": "af76d9ef-a022-4e73-97f4-ba3899219d8b",
   "metadata": {},
   "outputs": [
    {
     "data": {
      "text/plain": [
       "nan"
      ]
     },
     "execution_count": 90,
     "metadata": {},
     "output_type": "execute_result"
    }
   ],
   "source": [
    "# Write your answer here\n",
    "lego3=lego2.sort_values(by = 'price_per_piece', ascending = False)\n",
    "lego3.loc[lego3.theme =='toy story' , :].head(40).price_per_piece.mean()\n"
   ]
  },
  {
   "cell_type": "markdown",
   "id": "45a75d99",
   "metadata": {},
   "source": [
    "#### Question 6:\n",
    "\n",
    "What are the unique themes in the lego dataset?"
   ]
  },
  {
   "cell_type": "code",
   "execution_count": 92,
   "id": "fbdb9c4c",
   "metadata": {},
   "outputs": [
    {
     "ename": "AttributeError",
     "evalue": "'Series' object has no attribute 'values_counts'",
     "output_type": "error",
     "traceback": [
      "\u001b[1;31m---------------------------------------------------------------------------\u001b[0m",
      "\u001b[1;31mAttributeError\u001b[0m                            Traceback (most recent call last)",
      "\u001b[1;32m~\\AppData\\Local\\Temp\\ipykernel_29896\\228469012.py\u001b[0m in \u001b[0;36m?\u001b[1;34m()\u001b[0m\n\u001b[0;32m      1\u001b[0m \u001b[1;31m# Write your answer here\u001b[0m\u001b[1;33m\u001b[0m\u001b[1;33m\u001b[0m\u001b[0m\n\u001b[1;32m----> 2\u001b[1;33m \u001b[0mlego2\u001b[0m\u001b[1;33m.\u001b[0m\u001b[0mtheme\u001b[0m\u001b[1;33m.\u001b[0m\u001b[0mvalues_counts\u001b[0m\u001b[1;33m(\u001b[0m\u001b[1;33m)\u001b[0m\u001b[1;33m\u001b[0m\u001b[1;33m\u001b[0m\u001b[0m\n\u001b[0m",
      "\u001b[1;32m~\\anaconda3\\Lib\\site-packages\\pandas\\core\\generic.py\u001b[0m in \u001b[0;36m?\u001b[1;34m(self, name)\u001b[0m\n\u001b[0;32m   6295\u001b[0m             \u001b[1;32mand\u001b[0m \u001b[0mname\u001b[0m \u001b[1;32mnot\u001b[0m \u001b[1;32min\u001b[0m \u001b[0mself\u001b[0m\u001b[1;33m.\u001b[0m\u001b[0m_accessors\u001b[0m\u001b[1;33m\u001b[0m\u001b[1;33m\u001b[0m\u001b[0m\n\u001b[0;32m   6296\u001b[0m             \u001b[1;32mand\u001b[0m \u001b[0mself\u001b[0m\u001b[1;33m.\u001b[0m\u001b[0m_info_axis\u001b[0m\u001b[1;33m.\u001b[0m\u001b[0m_can_hold_identifiers_and_holds_name\u001b[0m\u001b[1;33m(\u001b[0m\u001b[0mname\u001b[0m\u001b[1;33m)\u001b[0m\u001b[1;33m\u001b[0m\u001b[1;33m\u001b[0m\u001b[0m\n\u001b[0;32m   6297\u001b[0m         \u001b[1;33m)\u001b[0m\u001b[1;33m:\u001b[0m\u001b[1;33m\u001b[0m\u001b[1;33m\u001b[0m\u001b[0m\n\u001b[0;32m   6298\u001b[0m             \u001b[1;32mreturn\u001b[0m \u001b[0mself\u001b[0m\u001b[1;33m[\u001b[0m\u001b[0mname\u001b[0m\u001b[1;33m]\u001b[0m\u001b[1;33m\u001b[0m\u001b[1;33m\u001b[0m\u001b[0m\n\u001b[1;32m-> 6299\u001b[1;33m         \u001b[1;32mreturn\u001b[0m \u001b[0mobject\u001b[0m\u001b[1;33m.\u001b[0m\u001b[0m__getattribute__\u001b[0m\u001b[1;33m(\u001b[0m\u001b[0mself\u001b[0m\u001b[1;33m,\u001b[0m \u001b[0mname\u001b[0m\u001b[1;33m)\u001b[0m\u001b[1;33m\u001b[0m\u001b[1;33m\u001b[0m\u001b[0m\n\u001b[0m",
      "\u001b[1;31mAttributeError\u001b[0m: 'Series' object has no attribute 'values_counts'"
     ]
    }
   ],
   "source": [
    "# Write your answer here\n",
    "lego2.theme.value_counts()\n"
   ]
  },
  {
   "cell_type": "code",
   "execution_count": null,
   "id": "e0bcae9b-b514-4b13-b234-961a40112c4c",
   "metadata": {},
   "outputs": [],
   "source": []
  },
  {
   "cell_type": "code",
   "execution_count": null,
   "id": "8c9ee99c-0ea3-4274-9edf-12e96c5c37dc",
   "metadata": {},
   "outputs": [],
   "source": []
  },
  {
   "cell_type": "code",
   "execution_count": null,
   "id": "f409224e-6bab-48a7-8aab-7044803734bd",
   "metadata": {},
   "outputs": [],
   "source": []
  }
 ],
 "metadata": {
  "kernelspec": {
   "display_name": "Python 3 (ipykernel)",
   "language": "python",
   "name": "python3"
  },
  "language_info": {
   "codemirror_mode": {
    "name": "ipython",
    "version": 3
   },
   "file_extension": ".py",
   "mimetype": "text/x-python",
   "name": "python",
   "nbconvert_exporter": "python",
   "pygments_lexer": "ipython3",
   "version": "3.12.4"
  }
 },
 "nbformat": 4,
 "nbformat_minor": 5
}
